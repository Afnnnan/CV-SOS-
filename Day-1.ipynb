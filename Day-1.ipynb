{
 "cells": [
  {
   "cell_type": "markdown",
   "metadata": {},
   "source": [
    "### Tensor"
   ]
  },
  {
   "cell_type": "code",
   "execution_count": 1,
   "metadata": {},
   "outputs": [
    {
     "name": "stdout",
     "output_type": "stream",
     "text": [
      "tensor([[1., 1., 1., 1.],\n",
      "        [1., 1., 1., 1.],\n",
      "        [1., 1., 1., 1.]])\n"
     ]
    }
   ],
   "source": [
    "import torch\n",
    "\n",
    "# Create a 2D tensor of size 3x4 filled with ones\n",
    "tensor_ones = torch.ones(3, 4)\n",
    "\n",
    "print(tensor_ones)"
   ]
  },
  {
   "cell_type": "code",
   "execution_count": 7,
   "metadata": {},
   "outputs": [
    {
     "name": "stdout",
     "output_type": "stream",
     "text": [
      "Random Tensor:\n",
      "tensor([[ 1.9327, -0.3575,  0.6642],\n",
      "        [ 1.5173, -0.6425,  0.0378],\n",
      "        [-0.5570,  0.2151, -0.4745],\n",
      "        [-1.7270, -1.6224,  1.5153],\n",
      "        [ 2.1178, -1.0806, -0.9209]])\n",
      "\n",
      "Transposed Tensor:\n",
      "tensor([[ 1.9327,  1.5173, -0.5570, -1.7270,  2.1178],\n",
      "        [-0.3575, -0.6425,  0.2151, -1.6224, -1.0806],\n",
      "        [ 0.6642,  0.0378, -0.4745,  1.5153, -0.9209]])\n"
     ]
    }
   ],
   "source": [
    "# Generate a random tensor of size 5x3\n",
    "random_tensor = torch.randn(5, 3)\n",
    "\n",
    "print(\"Random Tensor:\")\n",
    "print(random_tensor)\n",
    "\n",
    "# Compute the transpose\n",
    "transposed_tensor = random_tensor.t()\n",
    "\n",
    "print(\"\\nTransposed Tensor:\")\n",
    "print(transposed_tensor)"
   ]
  },
  {
   "cell_type": "code",
   "execution_count": 8,
   "metadata": {},
   "outputs": [
    {
     "name": "stdout",
     "output_type": "stream",
     "text": [
      "tensor([[ 0,  1,  2,  3],\n",
      "        [ 4,  5,  6,  7],\n",
      "        [ 8,  9, 10, 11]])\n"
     ]
    }
   ],
   "source": [
    "# Create a tensor with values from 0 to 11\n",
    "tensor_values = torch.arange(12)\n",
    "\n",
    "# Reshape it into a 3x4 matrix\n",
    "reshaped_tensor = tensor_values.reshape(3, 4)\n",
    "\n",
    "print(reshaped_tensor)\n"
   ]
  },
  {
   "cell_type": "code",
   "execution_count": 9,
   "metadata": {},
   "outputs": [
    {
     "name": "stdout",
     "output_type": "stream",
     "text": [
      "Original Random Tensor:\n",
      "tensor([[0.1550, 0.9906, 0.8857, 0.0054],\n",
      "        [0.6531, 0.8239, 0.9290, 0.8646],\n",
      "        [0.1203, 0.2027, 0.4926, 0.2259],\n",
      "        [0.8689, 0.5284, 0.6298, 0.5619]])\n",
      "\n",
      "Tensor with Values less than 0.5 replaced with zeros:\n",
      "tensor([[0.0000, 0.9906, 0.8857, 0.0000],\n",
      "        [0.6531, 0.8239, 0.9290, 0.8646],\n",
      "        [0.0000, 0.0000, 0.0000, 0.0000],\n",
      "        [0.8689, 0.5284, 0.6298, 0.5619]])\n"
     ]
    }
   ],
   "source": [
    "# Create a tensor of size 4x4 with random values\n",
    "random_tensor = torch.rand(4, 4)\n",
    "\n",
    "print(\"Original Random Tensor:\")\n",
    "print(random_tensor)\n",
    "\n",
    "# Replace values less than 0.5 with zeros\n",
    "random_tensor[random_tensor < 0.5] = 0\n",
    "\n",
    "print(\"\\nTensor with Values less than 0.5 replaced with zeros:\")\n",
    "print(random_tensor)\n"
   ]
  },
  {
   "cell_type": "code",
   "execution_count": 10,
   "metadata": {},
   "outputs": [
    {
     "name": "stdout",
     "output_type": "stream",
     "text": [
      "tensor([[ 1,  2,  3],\n",
      "        [ 4,  5,  6],\n",
      "        [ 7,  8,  9],\n",
      "        [10, 11, 12]])\n"
     ]
    }
   ],
   "source": [
    "# Create two tensors of size 2x3\n",
    "tensor1 = torch.tensor([[1, 2, 3],\n",
    "                        [4, 5, 6]])\n",
    "\n",
    "tensor2 = torch.tensor([[7, 8, 9],\n",
    "                        [10, 11, 12]])\n",
    "\n",
    "# Concatenate along the first dimension\n",
    "concatenated_tensor = torch.cat((tensor1, tensor2), dim=0)\n",
    "\n",
    "print(concatenated_tensor)"
   ]
  },
  {
   "cell_type": "code",
   "execution_count": 11,
   "metadata": {},
   "outputs": [
    {
     "name": "stdout",
     "output_type": "stream",
     "text": [
      "tensor([[ 7, 16, 27],\n",
      "        [40, 55, 72]])\n"
     ]
    }
   ],
   "source": [
    "# Create two tensors of the same size\n",
    "tensor1 = torch.tensor([[1, 2, 3],\n",
    "                        [4, 5, 6]])\n",
    "\n",
    "tensor2 = torch.tensor([[7, 8, 9],\n",
    "                        [10, 11, 12]])\n",
    "\n",
    "# Compute the element-wise product\n",
    "element_wise_product = tensor1 * tensor2\n",
    "\n",
    "print(element_wise_product)"
   ]
  },
  {
   "cell_type": "code",
   "execution_count": 14,
   "metadata": {},
   "outputs": [
    {
     "name": "stdout",
     "output_type": "stream",
     "text": [
      "tensor([[ 74,  80,  86,  92],\n",
      "        [173, 188, 203, 218]])\n"
     ]
    }
   ],
   "source": [
    "# Create a 2x3 tensor\n",
    "tensor1 = torch.tensor([[1, 2, 3],\n",
    "                        [4, 5, 6]])\n",
    "\n",
    "# Create a 3x4 tensor\n",
    "tensor2 = torch.tensor([[7, 8, 9, 10],\n",
    "                        [11, 12, 13, 14],\n",
    "                        [15, 16, 17, 18]])\n",
    "\n",
    "# Perform matrix multiplication\n",
    "result = torch.mm(tensor1, tensor2)\n",
    "\n",
    "# Alternatively, you can use the matmul method\n",
    "# result = tensor1.matmul(tensor2)\n",
    "\n",
    "print(result)"
   ]
  },
  {
   "cell_type": "code",
   "execution_count": 15,
   "metadata": {},
   "outputs": [
    {
     "name": "stdout",
     "output_type": "stream",
     "text": [
      "Random Tensor:\n",
      "tensor([[ 1.6017,  0.7310, -0.4392,  0.9753],\n",
      "        [ 0.5703, -0.9758,  1.8052,  0.4648],\n",
      "        [ 0.0270,  2.7690,  0.6895, -0.2468]])\n",
      "\n",
      "Mean: tensor(0.6643)\n",
      "Standard Deviation: tensor(1.0403)\n"
     ]
    }
   ],
   "source": [
    "# Create a tensor with random values\n",
    "random_tensor = torch.randn(3, 4)\n",
    "\n",
    "print(\"Random Tensor:\")\n",
    "print(random_tensor)\n",
    "\n",
    "# Calculate the mean\n",
    "mean_value = random_tensor.mean()\n",
    "\n",
    "# Calculate the standard deviation\n",
    "std_value = random_tensor.std()\n",
    "\n",
    "print(\"\\nMean:\", mean_value)\n",
    "print(\"Standard Deviation:\", std_value)"
   ]
  },
  {
   "cell_type": "markdown",
   "metadata": {},
   "source": [
    "### Autograd"
   ]
  },
  {
   "cell_type": "code",
   "execution_count": 16,
   "metadata": {},
   "outputs": [
    {
     "name": "stdout",
     "output_type": "stream",
     "text": [
      "Original Tensor: tensor([2.], requires_grad=True)\n",
      "Result Tensor: tensor([7.], grad_fn=<AddBackward0>)\n",
      "Gradient: tensor([3.])\n"
     ]
    }
   ],
   "source": [
    "# Create a tensor with requires_grad=True\n",
    "original_tensor = torch.tensor([2.0], requires_grad=True)\n",
    "\n",
    "# Perform a series of operations (addition, multiplication)\n",
    "result_tensor = original_tensor * 3 + 1\n",
    "\n",
    "# Compute the gradient of the resulting tensor with respect to the original tensor\n",
    "result_tensor.backward()\n",
    "\n",
    "# Access the gradient of the original tensor\n",
    "gradient = original_tensor.grad\n",
    "\n",
    "print(\"Original Tensor:\", original_tensor)\n",
    "print(\"Result Tensor:\", result_tensor)\n",
    "print(\"Gradient:\", gradient)"
   ]
  },
  {
   "cell_type": "code",
   "execution_count": 17,
   "metadata": {},
   "outputs": [
    {
     "name": "stdout",
     "output_type": "stream",
     "text": [
      "Function value f(x) at x=2: 12.0\n",
      "Derivative of f(x) at x=2: 7.0\n"
     ]
    }
   ],
   "source": [
    "# Define the function f(x)\n",
    "def f(x):\n",
    "    return x**2 + 3*x + 2\n",
    "\n",
    "# Create a tensor for the input value x\n",
    "x = torch.tensor([2.0], requires_grad=True)\n",
    "\n",
    "# Compute the function value f(x)\n",
    "y = f(x)\n",
    "\n",
    "# Use autograd to compute the derivative of f(x) with respect to x\n",
    "y.backward()\n",
    "\n",
    "# Access the gradient (derivative) of f(x) at x=2\n",
    "derivative = x.grad\n",
    "\n",
    "print(\"Function value f(x) at x=2:\", y.item())\n",
    "print(\"Derivative of f(x) at x=2:\", derivative.item())"
   ]
  },
  {
   "cell_type": "code",
   "execution_count": 18,
   "metadata": {},
   "outputs": [
    {
     "name": "stdout",
     "output_type": "stream",
     "text": [
      "Tensor 1: tensor([2., 3., 4.], requires_grad=True)\n",
      "Tensor 2: tensor([1., 2., 3.], requires_grad=True)\n",
      "Element-wise Product: tensor([ 2.,  6., 12.], grad_fn=<MulBackward0>)\n",
      "Sum of the Result: tensor(20., grad_fn=<SumBackward0>)\n",
      "Gradient of Tensor 1: tensor([1., 2., 3.])\n",
      "Gradient of Tensor 2: tensor([2., 3., 4.])\n"
     ]
    }
   ],
   "source": [
    "# Create two tensors\n",
    "tensor1 = torch.tensor([2.0, 3.0, 4.0], requires_grad=True)\n",
    "tensor2 = torch.tensor([1.0, 2.0, 3.0], requires_grad=True)\n",
    "\n",
    "# Perform element-wise multiplication\n",
    "element_wise_product = tensor1 * tensor2\n",
    "\n",
    "# Sum the result\n",
    "sum_result = element_wise_product.sum()\n",
    "\n",
    "# Use autograd to compute the gradient\n",
    "sum_result.backward()\n",
    "\n",
    "# Access the gradients\n",
    "gradient_tensor1 = tensor1.grad\n",
    "gradient_tensor2 = tensor2.grad\n",
    "\n",
    "print(\"Tensor 1:\", tensor1)\n",
    "print(\"Tensor 2:\", tensor2)\n",
    "print(\"Element-wise Product:\", element_wise_product)\n",
    "print(\"Sum of the Result:\", sum_result)\n",
    "print(\"Gradient of Tensor 1:\", gradient_tensor1)\n",
    "print(\"Gradient of Tensor 2:\", gradient_tensor2)"
   ]
  },
  {
   "cell_type": "code",
   "execution_count": 3,
   "metadata": {},
   "outputs": [
    {
     "name": "stdout",
     "output_type": "stream",
     "text": [
      "Output Tensor: tensor([[0.7238]], grad_fn=<AddmmBackward0>)\n",
      "Target Tensor: tensor([[0.9577]])\n",
      "Loss: 0.054726503789424896\n",
      "Gradients of the Weight Parameters: tensor([[ 0.1662,  0.5130, -0.9640]])\n",
      "Gradients of the Bias Parameter: tensor([-0.4679])\n"
     ]
    }
   ],
   "source": [
    "import torch.nn as nn\n",
    "\n",
    "# Define a simple neural network with one linear layer\n",
    "class SimpleNN(nn.Module):\n",
    "    def __init__(self):\n",
    "        super(SimpleNN, self).__init__()\n",
    "        self.linear = nn.Linear(3, 1)  # One linear layer with input size 3 and output size 1\n",
    "\n",
    "    def forward(self, x):\n",
    "        return self.linear(x)\n",
    "\n",
    "# Create an instance of the neural network\n",
    "model = SimpleNN()\n",
    "\n",
    "# Generate a random input tensor\n",
    "input_tensor = torch.randn(1, 3)  # Random input tensor of size 1x3\n",
    "\n",
    "# Perform a forward pass\n",
    "output_tensor = model(input_tensor)\n",
    "\n",
    "# Define a random target tensor\n",
    "target_tensor = torch.randn(1, 1)  # Random target tensor of size 1x1\n",
    "\n",
    "# Define a loss function\n",
    "criterion = nn.MSELoss()\n",
    "\n",
    "# Compute the loss\n",
    "loss = criterion(output_tensor, target_tensor)\n",
    "\n",
    "# Backpropagate the loss to obtain the gradients\n",
    "loss.backward()\n",
    "\n",
    "# Access the gradients of the network parameters\n",
    "gradients = model.linear.weight.grad, model.linear.bias.grad\n",
    "\n",
    "print(\"Output Tensor:\", output_tensor)\n",
    "print(\"Target Tensor:\", target_tensor)\n",
    "print(\"Loss:\", loss.item())\n",
    "print(\"Gradients of the Weight Parameters:\", gradients[0])\n",
    "print(\"Gradients of the Bias Parameter:\", gradients[1])"
   ]
  },
  {
   "cell_type": "code",
   "execution_count": 2,
   "metadata": {},
   "outputs": [
    {
     "name": "stdout",
     "output_type": "stream",
     "text": [
      "Gradient of g with respect to x at (x=1, y=2): 4.0\n",
      "Gradient of g with respect to y at (x=1, y=2): 13.0\n"
     ]
    }
   ],
   "source": [
    "# Define the variables x and y with requires_grad=True to track gradients\n",
    "x = torch.tensor(1.0, requires_grad=True)\n",
    "y = torch.tensor(2.0, requires_grad=True)\n",
    "\n",
    "# Define the function g(x, y) = x^2y + y^3\n",
    "g = x**2 * y + y**3\n",
    "\n",
    "# Perform backpropagation to compute the gradients\n",
    "g.backward()\n",
    "\n",
    "# Access the gradients of x and y\n",
    "grad_x = x.grad\n",
    "grad_y = y.grad\n",
    "\n",
    "print(\"Gradient of g with respect to x at (x=1, y=2):\", grad_x.item())\n",
    "print(\"Gradient of g with respect to y at (x=1, y=2):\", grad_y.item())\n"
   ]
  },
  {
   "cell_type": "code",
   "execution_count": 4,
   "metadata": {},
   "outputs": [
    {
     "name": "stdout",
     "output_type": "stream",
     "text": [
      "Outputs: tensor([[ 0.3082],\n",
      "        [-0.2524],\n",
      "        [-0.8130]], grad_fn=<AddmmBackward0>)\n",
      "Loss: 22.45423698425293\n",
      "Gradient of the weight parameter: tensor([[-20.4238]])\n",
      "Gradient of the bias parameter: tensor([-8.5048])\n"
     ]
    }
   ],
   "source": [
    "# Define the linear regression model\n",
    "class LinearRegressionModel(nn.Module):\n",
    "    def __init__(self):\n",
    "        super(LinearRegressionModel, self).__init__()\n",
    "        self.linear = nn.Linear(1, 1)  # 1 input feature, 1 output feature\n",
    "\n",
    "    def forward(self, x):\n",
    "        return self.linear(x)\n",
    "\n",
    "# Create an instance of the model\n",
    "model = LinearRegressionModel()\n",
    "\n",
    "# Define the loss function (Mean Squared Error)\n",
    "criterion = nn.MSELoss()\n",
    "\n",
    "# Example input and target tensors\n",
    "# Let's say we have 3 data points\n",
    "inputs = torch.tensor([[1.0], [2.0], [3.0]])\n",
    "targets = torch.tensor([[2.0], [4.0], [6.0]])\n",
    "\n",
    "# Perform a forward pass\n",
    "outputs = model(inputs)\n",
    "\n",
    "# Compute the loss\n",
    "loss = criterion(outputs, targets)\n",
    "\n",
    "# Perform backpropagation to compute the gradients\n",
    "loss.backward()\n",
    "\n",
    "# Access the gradients of the model parameters\n",
    "grad_weight = model.linear.weight.grad\n",
    "grad_bias = model.linear.bias.grad\n",
    "\n",
    "print(\"Outputs:\", outputs)\n",
    "print(\"Loss:\", loss.item())\n",
    "print(\"Gradient of the weight parameter:\", grad_weight)\n",
    "print(\"Gradient of the bias parameter:\", grad_bias)\n"
   ]
  },
  {
   "cell_type": "code",
   "execution_count": 5,
   "metadata": {},
   "outputs": [
    {
     "name": "stdout",
     "output_type": "stream",
     "text": [
      "Tensor: tensor([3., 4.], requires_grad=True)\n",
      "Norm of the Tensor: 5.0\n",
      "Gradient of the Norm with respect to the Tensor: tensor([0.6000, 0.8000])\n"
     ]
    }
   ],
   "source": [
    "# Create a tensor with requires_grad=True\n",
    "tensor = torch.tensor([3.0, 4.0], requires_grad=True)\n",
    "\n",
    "# Compute the L2 norm (Euclidean norm) of the tensor\n",
    "norm = torch.norm(tensor)\n",
    "\n",
    "# Perform backpropagation to compute the gradient of the norm with respect to the tensor\n",
    "norm.backward()\n",
    "\n",
    "# Access the gradient of the tensor\n",
    "gradient = tensor.grad\n",
    "\n",
    "print(\"Tensor:\", tensor)\n",
    "print(\"Norm of the Tensor:\", norm.item())\n",
    "print(\"Gradient of the Norm with respect to the Tensor:\", gradient)\n"
   ]
  },
  {
   "cell_type": "code",
   "execution_count": 6,
   "metadata": {},
   "outputs": [
    {
     "name": "stdout",
     "output_type": "stream",
     "text": [
      "Gradient of h with respect to x at (x=1, y=2, z=3): 2.0\n",
      "Gradient of h with respect to y at (x=1, y=2, z=3): 4.0\n",
      "Gradient of h with respect to z at (x=1, y=2, z=3): 6.0\n"
     ]
    }
   ],
   "source": [
    "import torch\n",
    "\n",
    "# Define the variables x, y, z with requires_grad=True\n",
    "x = torch.tensor(1.0, requires_grad=True)\n",
    "y = torch.tensor(2.0, requires_grad=True)\n",
    "z = torch.tensor(3.0, requires_grad=True)\n",
    "\n",
    "# Define the function h(x, y, z) = x^2 + y^2 + z^2\n",
    "h = x**2 + y**2 + z**2\n",
    "\n",
    "# Perform backpropagation to compute the gradient of h with respect to x, y, and z\n",
    "h.backward()\n",
    "\n",
    "# Access the gradients of x, y, and z\n",
    "grad_x = x.grad\n",
    "grad_y = y.grad\n",
    "grad_z = z.grad\n",
    "\n",
    "print(\"Gradient of h with respect to x at (x=1, y=2, z=3):\", grad_x.item())\n",
    "print(\"Gradient of h with respect to y at (x=1, y=2, z=3):\", grad_y.item())\n",
    "print(\"Gradient of h with respect to z at (x=1, y=2, z=3):\", grad_z.item())"
   ]
  },
  {
   "cell_type": "markdown",
   "metadata": {},
   "source": [
    "### Dataset Class"
   ]
  },
  {
   "cell_type": "code",
   "execution_count": 5,
   "metadata": {},
   "outputs": [
    {
     "name": "stdout",
     "output_type": "stream",
     "text": [
      "Number of images: 7301\n",
      "Label: 3\n",
      "Image Tensor: tensor([[[0.1882, 0.2353, 0.2667,  ..., 0.1020, 0.1608, 0.0471],\n",
      "         [0.2627, 0.2196, 0.2235,  ..., 0.0392, 0.0784, 0.0235],\n",
      "         [0.3843, 0.1529, 0.1608,  ..., 0.0471, 0.0314, 0.0275],\n",
      "         ...,\n",
      "         [0.2196, 0.1961, 0.2118,  ..., 0.0706, 0.0706, 0.0588],\n",
      "         [0.1647, 0.1804, 0.2000,  ..., 0.1059, 0.0941, 0.0784],\n",
      "         [0.1725, 0.1451, 0.1725,  ..., 0.1098, 0.1176, 0.1216]],\n",
      "\n",
      "        [[0.1882, 0.2353, 0.2667,  ..., 0.1020, 0.1608, 0.0471],\n",
      "         [0.2627, 0.2196, 0.2235,  ..., 0.0392, 0.0784, 0.0235],\n",
      "         [0.3843, 0.1529, 0.1608,  ..., 0.0471, 0.0314, 0.0275],\n",
      "         ...,\n",
      "         [0.2196, 0.1961, 0.2118,  ..., 0.0706, 0.0706, 0.0588],\n",
      "         [0.1647, 0.1804, 0.2000,  ..., 0.1059, 0.0941, 0.0784],\n",
      "         [0.1725, 0.1451, 0.1725,  ..., 0.1098, 0.1176, 0.1216]],\n",
      "\n",
      "        [[0.1882, 0.2353, 0.2667,  ..., 0.1020, 0.1608, 0.0471],\n",
      "         [0.2627, 0.2196, 0.2235,  ..., 0.0392, 0.0784, 0.0235],\n",
      "         [0.3843, 0.1529, 0.1608,  ..., 0.0471, 0.0314, 0.0275],\n",
      "         ...,\n",
      "         [0.2196, 0.1961, 0.2118,  ..., 0.0706, 0.0706, 0.0588],\n",
      "         [0.1647, 0.1804, 0.2000,  ..., 0.1059, 0.0941, 0.0784],\n",
      "         [0.1725, 0.1451, 0.1725,  ..., 0.1098, 0.1176, 0.1216]]])\n"
     ]
    }
   ],
   "source": [
    "import os\n",
    "from PIL import Image\n",
    "from torch.utils.data import Dataset\n",
    "from torchvision import transforms\n",
    "\n",
    "class CustomImageDataset(Dataset):\n",
    "    def __init__(self, img_dir, transform=None):\n",
    "        \"\"\"\n",
    "        Args:\n",
    "            img_dir (string): Directory with all the images.\n",
    "            transform (callable, optional): Optional transform to be applied on an image.\n",
    "        \"\"\"\n",
    "        self.img_dir = img_dir\n",
    "        self.transform = transform\n",
    "        self.img_files = [f for f in os.listdir(img_dir) if os.path.isfile(os.path.join(img_dir, f))]\n",
    "        self.img_files.sort(key=lambda f: int(os.path.splitext(f)[0]))  # Sort files numerically if they are named as '1.jpg', '2.jpg', etc.\n",
    "\n",
    "    def __len__(self):\n",
    "        \"\"\"Return the number of images in the directory.\"\"\"\n",
    "        return len(self.img_files)\n",
    "\n",
    "    def __getitem__(self, idx):\n",
    "        \"\"\"Load and return an image and its corresponding label.\"\"\"\n",
    "        img_name = self.img_files[idx]\n",
    "        img_path = os.path.join(self.img_dir, img_name)\n",
    "        image = Image.open(img_path)\n",
    "\n",
    "        # Assuming labels are encoded in the filename as the integer part\n",
    "        label = int(os.path.splitext(img_name)[0])\n",
    "\n",
    "        # Optionally apply transformations to the image\n",
    "        if self.transform:\n",
    "            image = self.transform(image)\n",
    "\n",
    "        return image, label\n",
    "\n",
    "# Example usage:\n",
    "if __name__ == '__main__':\n",
    "    # Define any transformations for the images (if needed)\n",
    "    transform = transforms.Compose([\n",
    "        transforms.Resize((128, 128)),\n",
    "        transforms.ToTensor(),\n",
    "    ])\n",
    "\n",
    "    # Create an instance of the dataset\n",
    "    dataset = CustomImageDataset(img_dir='seg_pred', transform=transform)\n",
    "\n",
    "     # Print the number of images\n",
    "    print(f'Number of images: {len(dataset)}')\n",
    "    # Accessing an element\n",
    "    img, label = dataset[0]\n",
    "    print(f'Label: {label}')\n",
    "    print(f'Image Tensor: {img}')\n"
   ]
  },
  {
   "cell_type": "code",
   "execution_count": 6,
   "metadata": {},
   "outputs": [
    {
     "name": "stdout",
     "output_type": "stream",
     "text": [
      "Number of images: 7301\n",
      "Label: 3\n",
      "Image Tensor: tensor([[[-0.6235, -0.5294, -0.4667,  ..., -0.7961, -0.6784, -0.9059],\n",
      "         [-0.4745, -0.5608, -0.5529,  ..., -0.9216, -0.8431, -0.9529],\n",
      "         [-0.2314, -0.6941, -0.6784,  ..., -0.9059, -0.9373, -0.9451],\n",
      "         ...,\n",
      "         [-0.5608, -0.6078, -0.5765,  ..., -0.8588, -0.8588, -0.8824],\n",
      "         [-0.6706, -0.6392, -0.6000,  ..., -0.7882, -0.8118, -0.8431],\n",
      "         [-0.6549, -0.7098, -0.6549,  ..., -0.7804, -0.7647, -0.7569]],\n",
      "\n",
      "        [[-0.6235, -0.5294, -0.4667,  ..., -0.7961, -0.6784, -0.9059],\n",
      "         [-0.4745, -0.5608, -0.5529,  ..., -0.9216, -0.8431, -0.9529],\n",
      "         [-0.2314, -0.6941, -0.6784,  ..., -0.9059, -0.9373, -0.9451],\n",
      "         ...,\n",
      "         [-0.5608, -0.6078, -0.5765,  ..., -0.8588, -0.8588, -0.8824],\n",
      "         [-0.6706, -0.6392, -0.6000,  ..., -0.7882, -0.8118, -0.8431],\n",
      "         [-0.6549, -0.7098, -0.6549,  ..., -0.7804, -0.7647, -0.7569]],\n",
      "\n",
      "        [[-0.6235, -0.5294, -0.4667,  ..., -0.7961, -0.6784, -0.9059],\n",
      "         [-0.4745, -0.5608, -0.5529,  ..., -0.9216, -0.8431, -0.9529],\n",
      "         [-0.2314, -0.6941, -0.6784,  ..., -0.9059, -0.9373, -0.9451],\n",
      "         ...,\n",
      "         [-0.5608, -0.6078, -0.5765,  ..., -0.8588, -0.8588, -0.8824],\n",
      "         [-0.6706, -0.6392, -0.6000,  ..., -0.7882, -0.8118, -0.8431],\n",
      "         [-0.6549, -0.7098, -0.6549,  ..., -0.7804, -0.7647, -0.7569]]])\n"
     ]
    }
   ],
   "source": [
    "class CustomImageDataset(Dataset):\n",
    "    def __init__(self, img_dir, transform=None):\n",
    "        \"\"\"\n",
    "        Args:\n",
    "            img_dir (string): Directory with all the images.\n",
    "            transform (callable, optional): Optional transform to be applied on an image.\n",
    "        \"\"\"\n",
    "        self.img_dir = img_dir\n",
    "        self.transform = transform\n",
    "        self.img_files = [f for f in os.listdir(img_dir) if os.path.isfile(os.path.join(img_dir, f))]\n",
    "        self.img_files.sort(key=lambda f: int(os.path.splitext(f)[0]))  # Sort files numerically if they are named as '1.jpg', '2.jpg', etc.\n",
    "\n",
    "    def __len__(self):\n",
    "        \"\"\"Return the number of images in the directory.\"\"\"\n",
    "        return len(self.img_files)\n",
    "\n",
    "    def __getitem__(self, idx):\n",
    "        \"\"\"Load and return an image and its corresponding label.\"\"\"\n",
    "        img_name = self.img_files[idx]\n",
    "        img_path = os.path.join(self.img_dir, img_name)\n",
    "        image = Image.open(img_path)\n",
    "\n",
    "        # Assuming labels are encoded in the filename as the integer part\n",
    "        label = int(os.path.splitext(img_name)[0])\n",
    "\n",
    "        # Apply transformations to the image\n",
    "        if self.transform:\n",
    "            image = self.transform(image)\n",
    "\n",
    "        return image, label\n",
    "\n",
    "# Define transformations to be applied to each image\n",
    "transform = transforms.Compose([\n",
    "    transforms.Resize((128, 128)),  # Resize the image to 128x128\n",
    "    transforms.ToTensor(),          # Convert the image to a PyTorch tensor\n",
    "    transforms.Normalize(mean=[0.5, 0.5, 0.5], std=[0.5, 0.5, 0.5])  # Normalize the image\n",
    "])\n",
    "\n",
    "# Example usage:\n",
    "if __name__ == '__main__':\n",
    "    # Create an instance of the dataset with transformations applied\n",
    "    dataset = CustomImageDataset(img_dir='seg_pred', transform=transform)\n",
    "\n",
    "    # Print the number of images\n",
    "    print(f'Number of images: {len(dataset)}')\n",
    "\n",
    "    # Accessing an element\n",
    "    img, label = dataset[0]\n",
    "    print(f'Label: {label}')\n",
    "    print(f'Image Tensor: {img}')\n"
   ]
  },
  {
   "cell_type": "code",
   "execution_count": 16,
   "metadata": {},
   "outputs": [
    {
     "name": "stdout",
     "output_type": "stream",
     "text": [
      "Number of images: 7301\n",
      "Bounding Box Annotations: [[11, 9, 75, 57], [10, 2, 79, 67], [43, 39, 54, 89]]\n",
      "Image: tensor([[[0.1882, 0.2353, 0.2667,  ..., 0.1020, 0.1608, 0.0471],\n",
      "         [0.2627, 0.2196, 0.2235,  ..., 0.0392, 0.0784, 0.0235],\n",
      "         [0.3843, 0.1529, 0.1608,  ..., 0.0471, 0.0314, 0.0275],\n",
      "         ...,\n",
      "         [0.2196, 0.1961, 0.2118,  ..., 0.0706, 0.0706, 0.0588],\n",
      "         [0.1647, 0.1804, 0.2000,  ..., 0.1059, 0.0941, 0.0784],\n",
      "         [0.1725, 0.1451, 0.1725,  ..., 0.1098, 0.1176, 0.1216]],\n",
      "\n",
      "        [[0.1882, 0.2353, 0.2667,  ..., 0.1020, 0.1608, 0.0471],\n",
      "         [0.2627, 0.2196, 0.2235,  ..., 0.0392, 0.0784, 0.0235],\n",
      "         [0.3843, 0.1529, 0.1608,  ..., 0.0471, 0.0314, 0.0275],\n",
      "         ...,\n",
      "         [0.2196, 0.1961, 0.2118,  ..., 0.0706, 0.0706, 0.0588],\n",
      "         [0.1647, 0.1804, 0.2000,  ..., 0.1059, 0.0941, 0.0784],\n",
      "         [0.1725, 0.1451, 0.1725,  ..., 0.1098, 0.1176, 0.1216]],\n",
      "\n",
      "        [[0.1882, 0.2353, 0.2667,  ..., 0.1020, 0.1608, 0.0471],\n",
      "         [0.2627, 0.2196, 0.2235,  ..., 0.0392, 0.0784, 0.0235],\n",
      "         [0.3843, 0.1529, 0.1608,  ..., 0.0471, 0.0314, 0.0275],\n",
      "         ...,\n",
      "         [0.2196, 0.1961, 0.2118,  ..., 0.0706, 0.0706, 0.0588],\n",
      "         [0.1647, 0.1804, 0.2000,  ..., 0.1059, 0.0941, 0.0784],\n",
      "         [0.1725, 0.1451, 0.1725,  ..., 0.1098, 0.1176, 0.1216]]])\n"
     ]
    }
   ],
   "source": [
    "import os\n",
    "import random\n",
    "\n",
    "# Directory containing the images\n",
    "img_dir = 'seg_pred'\n",
    "\n",
    "# Generate dummy annotations\n",
    "def create_dummy_annotations(img_dir):\n",
    "    for img_file in os.listdir(img_dir):\n",
    "        if img_file.endswith('.jpg'):\n",
    "            base_name = os.path.splitext(img_file)[0]\n",
    "            annotation_file = os.path.join(img_dir, base_name + '.txt')\n",
    "\n",
    "            # Create random bounding box coordinates\n",
    "            with open(annotation_file, 'w') as f:\n",
    "                for _ in range(3):  # Assuming each image has 3 bounding boxes\n",
    "                    x_min = random.randint(0, 50)\n",
    "                    y_min = random.randint(0, 50)\n",
    "                    x_max = random.randint(50, 100)\n",
    "                    y_max = random.randint(50, 100)\n",
    "                    f.write(f\"{x_min} {y_min} {x_max} {y_max}\\n\")\n",
    "\n",
    "# Run the function to create dummy annotation files\n",
    "create_dummy_annotations(img_dir)\n",
    "\n",
    "\n",
    "class CustomImageDatasetWithAnnotations(Dataset):\n",
    "    def __init__(self, img_dir, annotation_dir, transform=None):\n",
    "        \"\"\"\n",
    "        Args:\n",
    "            img_dir (string): Directory with all the images.\n",
    "            annotation_dir (string): Directory with all the annotations.\n",
    "            transform (callable, optional): Optional transform to be applied on an image.\n",
    "        \"\"\"\n",
    "        self.img_dir = img_dir\n",
    "        self.annotation_dir = annotation_dir\n",
    "        self.transform = transform\n",
    "        self.img_files = [f for f in os.listdir(img_dir) if f.endswith('.jpg')]\n",
    "        self.img_files.sort(key=lambda f: int(os.path.splitext(f)[0]))  # Sort files numerically if they are named as '1.jpg', '2.jpg', etc.\n",
    "\n",
    "    def __len__(self):\n",
    "        \"\"\"Return the number of images in the directory.\"\"\"\n",
    "        return len(self.img_files)\n",
    "\n",
    "    def __getitem__(self, idx):\n",
    "        \"\"\"Load and return an image and its corresponding bounding box annotations.\"\"\"\n",
    "        img_name = self.img_files[idx]\n",
    "        img_path = os.path.join(self.img_dir, img_name)\n",
    "        annotation_path = os.path.join(self.annotation_dir, os.path.splitext(img_name)[0] + '.txt')\n",
    "\n",
    "        # Load image\n",
    "        image = Image.open(img_path)\n",
    "\n",
    "        # Load bounding box annotations from the corresponding annotation file\n",
    "        if not os.path.exists(annotation_path):\n",
    "            raise FileNotFoundError(f\"Annotation file not found: {annotation_path}\")\n",
    "\n",
    "        with open(annotation_path, 'r') as file:\n",
    "            # Parse bounding box annotations (assuming each line contains [x_min, y_min, x_max, y_max])\n",
    "            annotations = [list(map(int, line.strip().split())) for line in file]\n",
    "\n",
    "        # Apply transformations to the image\n",
    "        if self.transform:\n",
    "            image = self.transform(image)\n",
    "\n",
    "        return image, annotations\n",
    "\n",
    "# Example usage:\n",
    "if __name__ == '__main__':\n",
    "    # Define transformations to be applied to each image\n",
    "    transform = transforms.Compose([\n",
    "        transforms.Resize((128, 128)),  # Resize the image to 128x128\n",
    "        transforms.ToTensor(),          # Convert the image to a PyTorch tensor\n",
    "    ])\n",
    "\n",
    "    # Define the directories containing the images and annotations\n",
    "    img_dir = 'seg_pred'\n",
    "    annotation_dir = 'seg_pred'\n",
    "\n",
    "    # Create an instance of the dataset\n",
    "    dataset = CustomImageDatasetWithAnnotations(img_dir=img_dir, annotation_dir=annotation_dir, transform=transform)\n",
    "\n",
    "    # Print the number of images\n",
    "    print(f'Number of images: {len(dataset)}')\n",
    "\n",
    "    # Accessing an element\n",
    "    try:\n",
    "        img, annotations = dataset[0]\n",
    "        print(f'Bounding Box Annotations: {annotations}')\n",
    "        print(f'Image: {img}')\n",
    "    except FileNotFoundError as e:\n",
    "        print(e)\n",
    "\n"
   ]
  },
  {
   "cell_type": "code",
   "execution_count": 38,
   "metadata": {},
   "outputs": [],
   "source": [
    "import os\n",
    "from PIL import Image\n",
    "from torch.utils.data import Dataset\n",
    "import matplotlib.pyplot as plt\n",
    "\n",
    "class GrayscaleToRGBDataset(Dataset):\n",
    "    def __init__(self, img_dir, transform=None):\n",
    "        \"\"\"\n",
    "        Args:\n",
    "            img_dir (string): Directory with grayscale images.\n",
    "            transform (callable, optional): Optional transform to be applied on the images.\n",
    "        \"\"\"\n",
    "        self.img_dir = img_dir\n",
    "        self.transform = transform\n",
    "        self.img_files = [f for f in os.listdir(img_dir) if f.endswith('.jpg')]\n",
    "\n",
    "    def __len__(self):\n",
    "        \"\"\"Returns the number of images in the directory.\"\"\"\n",
    "        return len(self.img_files)\n",
    "\n",
    "    def __getitem__(self, idx):\n",
    "        \"\"\"Loads and returns a grayscale image converted to RGB format.\"\"\"\n",
    "        img_name = self.img_files[idx]\n",
    "        img_path = os.path.join(self.img_dir, img_name)\n",
    "        \n",
    "        # Load grayscale image\n",
    "        grayscale_image = Image.open(img_path).convert('L')\n",
    "        \n",
    "        # Convert grayscale to RGB\n",
    "        rgb_image = grayscale_image.convert('RGB')\n",
    "        \n",
    "        # Apply transformations if specified\n",
    "        if self.transform:\n",
    "            rgb_image = self.transform(rgb_image)\n",
    "        \n",
    "        return rgb_image\n"
   ]
  },
  {
   "cell_type": "code",
   "execution_count": 44,
   "metadata": {},
   "outputs": [
    {
     "data": {
      "image/png": "[encoded data removed]",
      "text/plain": [
       "<Figure size 640x480 with 1 Axes>"
      ]
     },
     "metadata": {},
     "output_type": "display_data"
    },
    {
     "name": "stdout",
     "output_type": "stream",
     "text": [
      "Labels: tensor([0, 0, 0, 0])\n"
     ]
    }
   ],
   "source": [
    "import os\n",
    "from PIL import Image\n",
    "from torch.utils.data import Dataset\n",
    "import matplotlib.pyplot as plt\n",
    "from torchvision import transforms\n",
    "from torch.utils.data import DataLoader\n",
    "from torchvision.utils import make_grid\n",
    "\n",
    "class MultiDirImageDataset(Dataset):\n",
    "    def __init__(self, root_dirs, transform=None):\n",
    "        \"\"\"\n",
    "        Args:\n",
    "            root_dirs (list): List of directory paths, where each directory contains images with the same label.\n",
    "            transform (callable, optional): Optional transform to be applied on the images.\n",
    "        \"\"\"\n",
    "        self.root_dirs = root_dirs\n",
    "        self.transform = transform\n",
    "        self.img_paths = []\n",
    "        self.labels = []\n",
    "\n",
    "        # Assign a unique label to each directory\n",
    "        for label, dir_path in enumerate(root_dirs):\n",
    "            for img_name in os.listdir(dir_path):\n",
    "                img_path = os.path.join(dir_path, img_name)\n",
    "                if self._is_image_file(img_name):\n",
    "                    self.img_paths.append(img_path)\n",
    "                    self.labels.append(label)\n",
    "\n",
    "    def __len__(self):\n",
    "        \"\"\"Returns the number of images in all directories.\"\"\"\n",
    "        return len(self.img_paths)\n",
    "\n",
    "    def __getitem__(self, idx):\n",
    "        \"\"\"Loads and returns an image along with its label.\"\"\"\n",
    "        img_path = self.img_paths[idx]\n",
    "        label = self.labels[idx]\n",
    "\n",
    "        # Load image\n",
    "        image = Image.open(img_path)\n",
    "\n",
    "        # Apply transformations if specified\n",
    "        if self.transform:\n",
    "            image = self.transform(image)\n",
    "\n",
    "        return image, label\n",
    "\n",
    "    def _is_image_file(self, filename):\n",
    "        \"\"\"Check if a file is an image file based on its extension.\"\"\"\n",
    "        IMG_EXTENSIONS = ['.jpg', '.jpeg', '.png', '.bmp', '.gif', '.tiff']\n",
    "        filename_lower = filename.lower()\n",
    "        return any(filename_lower.endswith(ext) for ext in IMG_EXTENSIONS)\n",
    "\n",
    "# Define directories containing images\n",
    "root_dirs = ['seg_pred']\n",
    "\n",
    "# Define transformations to be applied on the images\n",
    "transform = transforms.Compose([\n",
    "    transforms.Resize((224, 224)),  # Resize images to 224x224\n",
    "    transforms.ToTensor(),           # Convert images to PyTorch tensors\n",
    "])\n",
    "\n",
    "# Create an instance of the dataset\n",
    "dataset = MultiDirImageDataset(root_dirs, transform=transform)\n",
    "\n",
    "# Define a data loader\n",
    "data_loader = DataLoader(dataset, batch_size=4, shuffle=True)\n",
    "\n",
    "# Iterate over a few batches of data to visualize\n",
    "for batch in data_loader:\n",
    "    images, labels = batch\n",
    "\n",
    "    # Convert images to numpy arrays for visualization\n",
    "    image_grid = make_grid(images, nrow=4, normalize=True)\n",
    "    plt.imshow(image_grid.permute(1, 2, 0))\n",
    "    plt.title('Images from Multiple Directories')\n",
    "    plt.axis('off')\n",
    "    plt.show()\n",
    "\n",
    "    # Print labels\n",
    "    print('Labels:', labels)\n",
    "    break\n"
   ]
  },
  {
   "cell_type": "markdown",
   "metadata": {},
   "source": [
    "DataLoader"
   ]
  },
  {
   "cell_type": "code",
   "execution_count": null,
   "metadata": {},
   "outputs": [],
   "source": []
  }
 ],
 "metadata": {
  "kernelspec": {
   "display_name": "Python 3",
   "language": "python",
   "name": "python3"
  },
  "language_info": {
   "codemirror_mode": {
    "name": "ipython",
    "version": 3
   },
   "file_extension": ".py",
   "mimetype": "text/x-python",
   "name": "python",
   "nbconvert_exporter": "python",
   "pygments_lexer": "ipython3",
   "version": "3.12.0"
  }
 },
 "nbformat": 4,
 "nbformat_minor": 2
}
